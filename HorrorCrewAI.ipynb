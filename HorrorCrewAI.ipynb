{
 "cells": [
  {
   "cell_type": "markdown",
   "id": "6e7bf6d9",
   "metadata": {},
   "source": [
    "# Install"
   ]
  },
  {
   "cell_type": "code",
   "execution_count": null,
   "id": "a605ed91",
   "metadata": {},
   "outputs": [],
   "source": [
    "!pip install crewai\n",
    "# !pip install -U duckduckgo-search\n",
    "!pip install --upgrade --quiet  langchain-google-genai pillow\n",
    "!pip install --upgrade --quiet  wikipedia"
   ]
  },
  {
   "cell_type": "markdown",
   "id": "6096d487",
   "metadata": {},
   "source": [
    "# Import"
   ]
  },
  {
   "cell_type": "code",
   "execution_count": 14,
   "id": "54658021",
   "metadata": {},
   "outputs": [],
   "source": [
    "import os\n",
    "from crewai import Agent, Task, Crew, Process\n",
    "from langchain_google_genai import ChatGoogleGenerativeAI\n",
    "# from langchain.tools import DuckDuckGoSearchRun (for duck duck search)\n",
    "from langchain.tools import WikipediaQueryRun\n",
    "from langchain_community.utilities import WikipediaAPIWrapper"
   ]
  },
  {
   "cell_type": "markdown",
   "id": "559c1115",
   "metadata": {},
   "source": [
    "# API"
   ]
  },
  {
   "cell_type": "code",
   "execution_count": 15,
   "id": "fbc8d7bb",
   "metadata": {},
   "outputs": [],
   "source": [
    "# api = Your KEY API\n"
   ]
  },
  {
   "cell_type": "code",
   "execution_count": 16,
   "id": "b095db0a",
   "metadata": {},
   "outputs": [],
   "source": [
    "llm = ChatGoogleGenerativeAI(model=\"gemini-pro\",\n",
    "                             verbose = True,\n",
    "                             temperature = 0.6, # ความหลากหลายของคำตอบ\n",
    "                             google_api_key=api)"
   ]
  },
  {
   "cell_type": "code",
   "execution_count": null,
   "id": "e8305bdb",
   "metadata": {},
   "outputs": [],
   "source": [
    "# search_tool = DuckDuckGoSearchRun() \n",
    "search_tool =  WikipediaQueryRun(api_wrapper=WikipediaAPIWrapper())"
   ]
  },
  {
   "cell_type": "markdown",
   "id": "2d3f2573",
   "metadata": {},
   "source": [
    "# Agent"
   ]
  },
  {
   "cell_type": "code",
   "execution_count": 18,
   "id": "40d75089",
   "metadata": {},
   "outputs": [],
   "source": [
    "researcher = Agent (\n",
    "    role=\"Master Ghost Hunter\",\n",
    "  goal='Find the scariest places in the world and share that experiences.',\n",
    "  backstory=\"\"\"The seasoned Master Ghost Hunter, born into a family with a \n",
    "  mystical heritage, has explored haunted sites worldwide, from ancient European castles to \n",
    "  abandoned North American asylums and remote Asian temples. Armed with occult knowledge and advanced equipment\"\"\",\n",
    "  verbose=True, # output เพิ่มมากขึ้น\n",
    "  allow_delegation=False, # อนุญาติให้ทำงานร่วมกับ Agent ตัวอื่น\n",
    "  llm=llm,\n",
    "    tools=[search_tool],\n",
    ")\n",
    "\n",
    "\n",
    "writer = Agent(\n",
    "  role='Senior Writer content',\n",
    "  goal = \"Expertly writes stories about haunted and frightening places.\",\n",
    "  backstory=\"\"\"Meet the mysterious blogger who passionately writes eerie tales on her blog. \n",
    "  Born with a fascination for the macabre, she draws inspiration from haunted places and folklore, \n",
    "  captivating readers with chilling stories that leave them unnerved.\"\"\",\n",
    "  verbose=True,\n",
    "  allow_delegation=True,\n",
    "  llm=llm\n",
    ")"
   ]
  },
  {
   "cell_type": "markdown",
   "id": "bbb4000b",
   "metadata": {},
   "source": [
    "# Task"
   ]
  },
  {
   "cell_type": "code",
   "execution_count": 19,
   "id": "4b555ab5",
   "metadata": {},
   "outputs": [],
   "source": [
    "# Create tasks for your agents\n",
    "task1 = Task(\n",
    "  description=\"\"\"Find and tell the 10 most haunted places from around the world that you think are the scariest in 2023. \n",
    "  The story must include the name and the place as well as the story that made the place scary in detail.\"\"\",\n",
    "  agent=researcher\n",
    ")\n",
    "\n",
    "task2 = Task(\n",
    "  description=\"\"\"Write a scary story from the information you received to make it even scarier but not distort the truth, \n",
    "  as well as make it more interesting. The final answer has to be the 10 scariest places written to attract people to read..\"\"\",\n",
    "  agent=writer\n",
    ")"
   ]
  },
  {
   "cell_type": "markdown",
   "id": "bea36111",
   "metadata": {},
   "source": [
    "# Crew"
   ]
  },
  {
   "cell_type": "code",
   "execution_count": 20,
   "id": "d2e0d5f6",
   "metadata": {},
   "outputs": [],
   "source": [
    "# Instantiate your crew with a sequential process\n",
    "crew = Crew(\n",
    "  agents=[researcher, writer],\n",
    "  tasks=[task1, task2],\n",
    "  verbose=2, # You can set it to 1 or 2 to different logging levels\n",
    "  process = Process.sequential\n",
    ")"
   ]
  },
  {
   "cell_type": "code",
   "execution_count": 21,
   "id": "7e911857",
   "metadata": {},
   "outputs": [
    {
     "name": "stdout",
     "output_type": "stream",
     "text": [
      "\n",
      "[DEBUG]: Working Agent: Master Ghost Hunter\n",
      "\n",
      "[INFO]: Starting Task: Find and tell the 10 most haunted places from around the world that you think are the scariest in 2023. \n",
      "  The story must include the name and the place as well as the story that made the place scary in detail.\n",
      "\n",
      "\n",
      "\u001b[1m> Entering new CrewAgentExecutor chain...\u001b[0m\n",
      "\u001b[32;1m\u001b[1;3mThought: Do I need to use a tool? Yes\n",
      "Action: Wikipedia\n",
      "Action Input: Scariest places in the world\u001b[0m\u001b[36;1m\u001b[1;3mPage: Scariest Places on Earth\n",
      "Summary: Scariest Places on Earth is an American paranormal reality television series that originally aired from October 23, 2000, to October 29, 2006, on Fox Family, and later ABC Family. The show was hosted by Linda Blair, with narration by Zelda Rubinstein. The show featured reported cases of the paranormal by detailing the location's history, and then sending an ordinary family to visit the location in a reality TV-style vigil.\n",
      "\n",
      "Page: Houska Castle\n",
      "Summary: Houska Castle is an early Gothic castle in the municipality of Blatce in the Liberec Region of the Czech Republic. It lies about 47 km (29 mi) north of Prague. It is one of the best preserved castles of the period. Some notable features of the castle include a predominantly Gothic chapel, green chamber with late-Gothic paintings, and a knight's drawing room.Folklore considers this castle to cover one of the gateways to Hell, built to prevent demons (trapped in lower levels) from reaching the rest of the world.\n",
      "\n",
      "Page: List of Scariest Places on Earth episodes\n",
      "Summary: This is a complete list of episodes of Scariest Places on Earth, an American paranormal documentary reality television series that originally aired from October 23, 2000 to October 29, 2006 on Fox Family. Hosted by actress Linda Blair, the series visited a wide array of reportedly haunted locations around the world, giving historical context, interviews, and reality TV-style segments featuring people staying overnight in the locations.\u001b[0m"
     ]
    },
    {
     "name": "stderr",
     "output_type": "stream",
     "text": [
      "Gemini produced an empty response.\n",
      "Unrecognized role: . Treating as a ChatMessage.\n"
     ]
    },
    {
     "name": "stdout",
     "output_type": "stream",
     "text": [
      "\u001b[32;1m\u001b[1;3mDo I need to use a tool? No\n",
      "Final Answer: 1. **Houska Castle, Czech Republic:** Built atop a bottomless pit said to be a gateway to Hell, Houska Castle is believed to be haunted by demons trapped beneath its foundation. Visitors often report hearing strange noises and feeling a sense of unease while exploring the castle.\n",
      "\n",
      "2. **The Winchester Mystery House, San Jose, California:** This bizarre Victorian mansion was built by Sarah Winchester, the widow of William Wirt Winchester, the heir to the Winchester rifle fortune. Sarah believed she was haunted by the ghosts of those killed by Winchester rifles, and she spent the rest of her life constructing the house in an attempt to appease them. The house is full of strange architectural features, such as staircases that lead nowhere and doors that open into walls.\n",
      "\n",
      "3. **The Tower of London, London, England:** This historic fortress has been the site of many executions and imprisonments over the centuries. The most famous ghost that is said to haunt the Tower is that of Anne Boleyn, the second wife of King Henry VIII. Anne was executed on the Tower Green in 1536, and her\u001b[0m\n",
      "\n",
      "\u001b[1m> Finished chain.\u001b[0m\n",
      "\n",
      "[DEBUG]: [Master Ghost Hunter] Task output: 1. **Houska Castle, Czech Republic:** Built atop a bottomless pit said to be a gateway to Hell, Houska Castle is believed to be haunted by demons trapped beneath its foundation. Visitors often report hearing strange noises and feeling a sense of unease while exploring the castle.\n",
      "\n",
      "2. **The Winchester Mystery House, San Jose, California:** This bizarre Victorian mansion was built by Sarah Winchester, the widow of William Wirt Winchester, the heir to the Winchester rifle fortune. Sarah believed she was haunted by the ghosts of those killed by Winchester rifles, and she spent the rest of her life constructing the house in an attempt to appease them. The house is full of strange architectural features, such as staircases that lead nowhere and doors that open into walls.\n",
      "\n",
      "3. **The Tower of London, London, England:** This historic fortress has been the site of many executions and imprisonments over the centuries. The most famous ghost that is said to haunt the Tower is that of Anne Boleyn, the second wife of King Henry VIII. Anne was executed on the Tower Green in 1536, and her\n",
      "\n",
      "\n",
      "\n",
      "[DEBUG]: Working Agent: Senior Writer content\n",
      "\n",
      "[INFO]: Starting Task: Write a scary story from the information you received to make it even scarier but not distort the truth, \n",
      "  as well as make it more interesting. The final answer has to be the 10 scariest places written to attract people to read..\n",
      "\n",
      "\n",
      "\u001b[1m> Entering new CrewAgentExecutor chain...\u001b[0m\n",
      "\u001b[32;1m\u001b[1;3mThought: Do I need to use a tool? No\n",
      "Final Answer: **10 Eerie Places That Will Haunt Your Dreams:**\n",
      "\n",
      "1. **Houska Castle, Czech Republic:** Descend into the abyss of Houska Castle, built upon a portal to the underworld. Unearthly whispers echo through its halls, and the very air crackles with malevolent energy. Dare you venture into the gateway of Hell?\n",
      "\n",
      "2. **The Winchester Mystery House, San Jose, California:** Unravel the enigma of the Winchester Mystery House, a labyrinth of bizarre architecture and restless spirits. Each creaking staircase and hidden passageway conceals a tragic tale of those slain by Winchester rifles. Can you unravel the mystery before the ghosts claim you too?\n",
      "\n",
      "3. **The Tower of London, London, England:** Walk the blood-soaked grounds of the Tower of London, where the specter of Anne Boleyn still roams. Her haunting cries reverberate through the centuries, seeking justice for her untimely demise. Will you become her next victim?\n",
      "\n",
      "4. **Poveglia Island, Venice, Italy:** Embark on a chilling journey to Poveglia Island, a forsaken isle shrouded in darkness. As you step ashore, the whispers of tormented souls fill the air. Can you withstand the malevolent forces that lurk beneath the surface?\n",
      "\n",
      "5. **The Aokigahara Forest, Japan:** Venture into the depths of the Aokigahara Forest, known as the \"Suicide Forest.\" As you tread through its dense undergrowth, the spirits of the departed whisper their tragic tales. Will you succumb to their despair or find a way to escape their clutches?\n",
      "\n",
      "6. **The Catacombs of Paris, France:** Descend into the subterranean labyrinth of the Catacombs of Paris, where millions of skeletal remains lie in eternal rest. The air hangs heavy with the scent of decay as you navigate the maze-like tunnels. Can you find your way out before the spirits of the dead claim you?\n",
      "\n",
      "7. **The Island of the Dolls, Mexico:** Journey to the Island of the Dolls, a haunting haven where hundreds of mutilated dolls hang from the trees. Their lifeless eyes seem to follow your every move, their porcelain faces contorted in eternal agony. Will you dare to venture into this realm of darkness?\n",
      "\n",
      "8. **The Lizzie Borden House, Fall River, Massachusetts:** Step inside the infamous Lizzie Borden House, where a gruesome double murder took place in 1892. The spirits of Lizzie and her victims are said to roam the halls, seeking vengeance for the unspeakable crime that occurred within these walls. Can you uncover the truth behind the Borden murders before it consumes you?\n",
      "\n",
      "9. **The Waverly Hills Sanatorium, Louisville, Kentucky:** Explore the abandoned Waverly Hills Sanatorium, once a haven for tuberculosis patients and now a hotbed of paranormal activity. As you roam the dilapidated corridors, you'll hear disembodied voices, catch glimpses of shadowy figures, and feel the chilling presence of the restless souls who still linger within.\n",
      "\n",
      "10. **The Edinburgh Castle, Scotland:** Unravel the dark secrets of Edinburgh Castle, a fortress steeped in bloodshed and intrigue. From the ghostly bagpiper who haunts the ramparts to the vengeful spirits of prisoners who perished within its walls, the castle's past comes alive after dark. Will you dare to venture into its haunted chambers and uncover the chilling tales that lie in wait?\u001b[0m\n",
      "\n",
      "\u001b[1m> Finished chain.\u001b[0m\n",
      "\n",
      "[DEBUG]: [Senior Writer content] Task output: **10 Eerie Places That Will Haunt Your Dreams:**\n",
      "\n",
      "1. **Houska Castle, Czech Republic:** Descend into the abyss of Houska Castle, built upon a portal to the underworld. Unearthly whispers echo through its halls, and the very air crackles with malevolent energy. Dare you venture into the gateway of Hell?\n",
      "\n",
      "2. **The Winchester Mystery House, San Jose, California:** Unravel the enigma of the Winchester Mystery House, a labyrinth of bizarre architecture and restless spirits. Each creaking staircase and hidden passageway conceals a tragic tale of those slain by Winchester rifles. Can you unravel the mystery before the ghosts claim you too?\n",
      "\n",
      "3. **The Tower of London, London, England:** Walk the blood-soaked grounds of the Tower of London, where the specter of Anne Boleyn still roams. Her haunting cries reverberate through the centuries, seeking justice for her untimely demise. Will you become her next victim?\n",
      "\n",
      "4. **Poveglia Island, Venice, Italy:** Embark on a chilling journey to Poveglia Island, a forsaken isle shrouded in darkness. As you step ashore, the whispers of tormented souls fill the air. Can you withstand the malevolent forces that lurk beneath the surface?\n",
      "\n",
      "5. **The Aokigahara Forest, Japan:** Venture into the depths of the Aokigahara Forest, known as the \"Suicide Forest.\" As you tread through its dense undergrowth, the spirits of the departed whisper their tragic tales. Will you succumb to their despair or find a way to escape their clutches?\n",
      "\n",
      "6. **The Catacombs of Paris, France:** Descend into the subterranean labyrinth of the Catacombs of Paris, where millions of skeletal remains lie in eternal rest. The air hangs heavy with the scent of decay as you navigate the maze-like tunnels. Can you find your way out before the spirits of the dead claim you?\n",
      "\n",
      "7. **The Island of the Dolls, Mexico:** Journey to the Island of the Dolls, a haunting haven where hundreds of mutilated dolls hang from the trees. Their lifeless eyes seem to follow your every move, their porcelain faces contorted in eternal agony. Will you dare to venture into this realm of darkness?\n",
      "\n",
      "8. **The Lizzie Borden House, Fall River, Massachusetts:** Step inside the infamous Lizzie Borden House, where a gruesome double murder took place in 1892. The spirits of Lizzie and her victims are said to roam the halls, seeking vengeance for the unspeakable crime that occurred within these walls. Can you uncover the truth behind the Borden murders before it consumes you?\n",
      "\n",
      "9. **The Waverly Hills Sanatorium, Louisville, Kentucky:** Explore the abandoned Waverly Hills Sanatorium, once a haven for tuberculosis patients and now a hotbed of paranormal activity. As you roam the dilapidated corridors, you'll hear disembodied voices, catch glimpses of shadowy figures, and feel the chilling presence of the restless souls who still linger within.\n",
      "\n",
      "10. **The Edinburgh Castle, Scotland:** Unravel the dark secrets of Edinburgh Castle, a fortress steeped in bloodshed and intrigue. From the ghostly bagpiper who haunts the ramparts to the vengeful spirits of prisoners who perished within its walls, the castle's past comes alive after dark. Will you dare to venture into its haunted chambers and uncover the chilling tales that lie in wait?\n",
      "\n",
      "\n"
     ]
    }
   ],
   "source": [
    "# Get your crew to work!\n",
    "result = crew.kickoff()\n"
   ]
  },
  {
   "cell_type": "code",
   "execution_count": null,
   "id": "9ae50384",
   "metadata": {},
   "outputs": [],
   "source": [
    "print(result)"
   ]
  },
  {
   "cell_type": "code",
   "execution_count": null,
   "id": "a6eee4a9",
   "metadata": {},
   "outputs": [],
   "source": []
  }
 ],
 "metadata": {
  "kernelspec": {
   "display_name": "Python 3 (ipykernel)",
   "language": "python",
   "name": "python3"
  },
  "language_info": {
   "codemirror_mode": {
    "name": "ipython",
    "version": 3
   },
   "file_extension": ".py",
   "mimetype": "text/x-python",
   "name": "python",
   "nbconvert_exporter": "python",
   "pygments_lexer": "ipython3",
   "version": "3.9.12"
  }
 },
 "nbformat": 4,
 "nbformat_minor": 5
}
